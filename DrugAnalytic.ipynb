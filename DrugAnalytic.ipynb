{
 "cells": [
  {
   "cell_type": "markdown",
   "metadata": {},
   "source": [
    "Data preprocessing"
   ]
  },
  {
   "cell_type": "code",
   "execution_count": null,
   "metadata": {},
   "outputs": [],
   "source": [
    "import pandas as pd\n",
    "\n",
    "df_data = pd.read_csv('./medicine_project/rawData/DATA_Hosp_ver.csv')\n",
    "\n",
    "# 濾掉空格\n",
    "df_data['drug_no'] = df_data['drug_no'].str.replace(' ', '')\n",
    "df_data['acode_icd9_1'] = df_data['acode_icd9_1'].str.replace(' ', '')\n",
    "\n",
    "# 濾掉非服用藥的資料\n",
    "df_data = df_data[df_data['drug_no'].str.len() == 10]\n",
    "\n",
    "df_data = df_data[df_data['acode_icd9_1'].isin(df_dx['icd9_cm_code'])]\n",
    "\n",
    "df_data.to_csv('clear_data.csv', index = False)"
   ]
  },
  {
   "cell_type": "code",
   "execution_count": null,
   "metadata": {},
   "outputs": [],
   "source": [
    "import pandas as pd\n",
    "df = pd.read_csv('./medicine_project/rawData/DXREF_2008_Archive.csv')\n",
    "df_dx.columns = df_dx.columns.str.replace('\\'', '')\n",
    "df_dx['ICD-9-CM CODE'] = df_dx['ICD-9-CM CODE'].str.replace('\\'', '')\n",
    "df_dx['ICD-9-CM CODE'] = df_dx['ICD-9-CM CODE'].str.replace(' ', '')\n",
    "df_dx['CCS CATEGORY'] = df_dx['CCS CATEGORY'].str.replace('\\'', '')\n",
    "df_dx['CCS CATEGORY'] = df_dx['CCS CATEGORY'].str.replace(' ', '')\n",
    "df_dx['CCS CATEGORY DESCRIPTION'] = df_dx['CCS CATEGORY DESCRIPTION'].str.replace('\\'', '')\n",
    "df_dx.columns = ['icd9_cm_code', 'ccs_category', 'ccs_category_description', 'icd9_cm_code_description']\n",
    "df_dx['ccs_category'] = df_dx['ccs_category'].astype(int)\n",
    "df_dx.sort_values(by = 'ccs_category', inplace = True)\n",
    "df_dx = df_dx[df_dx['ccs_category'] < 1000]\n",
    "df_dx.to_csv('dxref.csv', index = False)"
   ]
  },
  {
   "cell_type": "code",
   "execution_count": null,
   "metadata": {},
   "outputs": [],
   "source": [
    "df_A = pd.read_csv('./all1_1080108_A.csv')\n",
    "df_A = df_A[['B', 'G']]\n",
    "df_B = pd.read_csv('./all1_1080108_B.csv')\n",
    "df_B = df_B[['B', 'F']]\n",
    "df_A.columns = df_B.columns = ['drug_no', 'drug_name']\n",
    "df_all = pd.concat([df_A, df_B], ignore_index = True)\n",
    "df_all = df_all.sort_values(by = 'drug_no')\n",
    "df_drugs = df_all.drop_duplicates('drug_no')\n",
    "df_drugs = df_drugs[df_drugs['drug_no'].str.len() == 10] #去掉 YC00004217 1 這種\n",
    "\n",
    "df_drugs.to_csv('drugs.csv', index = False)"
   ]
  },
  {
   "cell_type": "code",
   "execution_count": null,
   "metadata": {},
   "outputs": [],
   "source": [
    "df_data = pd.read_csv('./clear_data.csv')\n",
    "df_dx = pd.read_csv('./dxref.csv')\n",
    "df_dr = pd.read_csv('./drugs_new.csv')\n",
    "\n",
    "df_result = pd.DataFrame(columns = ['icd9_cm_code', 'ccs_category', 'ccs_description', 'drug_no', 'drug_name', 'frequency'])\n",
    "\n",
    "ccs_memory = {}\n",
    "name_memory = {}\n",
    "\n",
    "count = 0\n",
    "for _ in df_data.index:\n",
    "    \n",
    "    if df_data['acode_icd9_1'][_] in ccs_memory:\n",
    "        df_ccs = ccs_memory[df_data['acode_icd9_1'][_]]\n",
    "    else:\n",
    "        df_ccs = df_dx[df_dx['icd9_cm_code'].isin([df_data['acode_icd9_1'][_]])]\n",
    "        ccs_memory[df_data['acode_icd9_1'][_]] = df_ccs\n",
    "    \n",
    "    if df_data['drug_no'][_] in name_memory:\n",
    "        df_name = name_memory[df_data['drug_no'][_]]\n",
    "    else:\n",
    "        df_name = df_dr[df_dr['drug_no'].isin([df_data['drug_no'][_]])]\n",
    "        name_memory[df_data['drug_no'][_]] = df_name\n",
    "        \n",
    "    df_result.loc[_] = [df_data['acode_icd9_1'][_], df_ccs['ccs_category'].values[0], df_ccs['ccs_category_description'].values[0], df_data['drug_no'][_], df_name['drug_name'].values, '0']\n",
    "\n",
    "    count += 1\n",
    "    if count > 1000:\n",
    "        print(df_result)\n",
    "        count = 0\n",
    "\n",
    "df_result.to_csv('first_result.csv', index = False)"
   ]
  },
  {
   "cell_type": "code",
   "execution_count": null,
   "metadata": {},
   "outputs": [],
   "source": [
    "import pandas as pd\n",
    "\n",
    "df = pd.read_csv('./first_result.csv')\n",
    "df.sort_values(by = ['ccs_category', 'drug_no'], inplace = True)\n",
    "df.to_csv('fixed.csv', index = False)\n",
    "\n",
    "ccs_cat = df['ccs_description'].drop_duplicates().values\n",
    "for _ in ccs_cat:\n",
    "    print(_)\n",
    "    df_tmp = df.loc[df['ccs_description'] == _]\n",
    "    drug_arr = df_tmp['drug_no'].drop_duplicates().values\n",
    "    for __ in drug_arr:\n",
    "        count = list(df_tmp['drug_no']).count(__)\n",
    "#         df_tmp.loc[df['drug_no'] == __].drop_duplicates(inplace = True) 沒有效果，不知如何更改\n",
    "        df_tmp.loc[df['drug_no'] == __, 'frequency'] = count\n",
    "    df.loc[df['ccs_description'] == _] = df_tmp\n",
    "\n",
    "df.to_csv('final_result', index = False)"
   ]
  }
 ],
 "metadata": {},
 "nbformat": 4,
 "nbformat_minor": 4
}